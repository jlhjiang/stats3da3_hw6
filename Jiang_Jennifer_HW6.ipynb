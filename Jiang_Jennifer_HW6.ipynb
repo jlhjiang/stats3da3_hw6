{
 "cells": [
  {
   "cell_type": "code",
   "execution_count": 1,
   "id": "23e76947-238b-45f5-b59a-45b48eee2f83",
   "metadata": {},
   "outputs": [],
   "source": [
    "import numpy as np\n",
    "import matplotlib.pyplot as plt\n",
    "import pandas as pd\n",
    "import seaborn as sns"
   ]
  },
  {
   "cell_type": "code",
   "execution_count": 2,
   "id": "61e9d849-a674-48e4-a30b-239adf4bbe12",
   "metadata": {},
   "outputs": [],
   "source": [
    "from sklearn.preprocessing import StandardScaler\n",
    "from sklearn.model_selection import train_test_split\n",
    "from sklearn.linear_model import RidgeClassifier, Ridge, RidgeCV, Lasso, LassoCV\n",
    "from sklearn import metrics\n",
    "from sklearn.impute import SimpleImputer\n",
    "from sklearn.metrics import silhouette_score, balanced_accuracy_score, roc_auc_score\n",
    "from sklearn.decomposition import PCA \n",
    "from sklearn.cluster import KMeans"
   ]
  },
  {
   "cell_type": "code",
   "execution_count": 3,
   "id": "aedebec6-dbb6-43df-96b2-e2b7c1a93168",
   "metadata": {},
   "outputs": [],
   "source": [
    "from ucimlrepo import fetch_ucirepo \n",
    "  \n",
    "# fetch dataset \n",
    "chronic_kidney_disease = fetch_ucirepo(id=336) \n",
    "  \n",
    "# data (as pandas dataframes) \n",
    "X = chronic_kidney_disease.data.features \n",
    "y = chronic_kidney_disease.data.targets "
   ]
  },
  {
   "cell_type": "markdown",
   "id": "f3c83215-bfe3-47df-be73-1f746f7e6500",
   "metadata": {},
   "source": [
    "## Question 1 ###"
   ]
  },
  {
   "cell_type": "markdown",
   "id": "868d55e5-dbf1-46a6-b27d-b7a6d092ff75",
   "metadata": {},
   "source": [
    "I will predict the 'class' (response variable) using all other features as predictors to help make informed decisions on whether or not a patient has CKD based on hemopoetic and physical observations."
   ]
  },
  {
   "cell_type": "markdown",
   "id": "31799046-41d0-4f86-b17f-ef1682fed1b9",
   "metadata": {},
   "source": [
    "## Question 2 ##"
   ]
  },
  {
   "cell_type": "code",
   "execution_count": 4,
   "id": "0eba29cb-fe03-497f-b044-e34afae905b7",
   "metadata": {},
   "outputs": [
    {
     "name": "stdout",
     "output_type": "stream",
     "text": [
      "     name         type\n",
      "0     age      Integer\n",
      "1      bp      Integer\n",
      "2      sg  Categorical\n",
      "3      al  Categorical\n",
      "4      su  Categorical\n",
      "5     rbc       Binary\n",
      "6      pc       Binary\n",
      "7     pcc       Binary\n",
      "8      ba       Binary\n",
      "9     bgr      Integer\n",
      "10     bu      Integer\n",
      "11     sc   Continuous\n",
      "12    sod      Integer\n",
      "13    pot   Continuous\n",
      "14   hemo   Continuous\n",
      "15    pcv      Integer\n",
      "16   wbcc      Integer\n",
      "17   rbcc   Continuous\n",
      "18    htn       Binary\n",
      "19     dm       Binary\n",
      "20    cad       Binary\n",
      "21  appet       Binary\n",
      "22     pe       Binary\n",
      "23    ane       Binary\n",
      "24  class       Binary\n"
     ]
    }
   ],
   "source": [
    "print(chronic_kidney_disease.variables[['name','type']]) "
   ]
  },
  {
   "cell_type": "markdown",
   "id": "72796291-6833-48d2-bcd3-2b1e95a51c2e",
   "metadata": {},
   "source": [
    "sg, al, and su should be in categorical format.\n",
    "The rest of the numerical variables can be scaled."
   ]
  },
  {
   "cell_type": "code",
   "execution_count": 5,
   "id": "47e262c8-0f60-47ad-ab39-a0cb7fb25564",
   "metadata": {},
   "outputs": [],
   "source": [
    "cat_var = ['sg','al','su']\n",
    "for var in cat_var:\n",
    "    X.loc[:,var] = pd.Categorical(X[var])"
   ]
  },
  {
   "cell_type": "code",
   "execution_count": 6,
   "id": "43e6cfed-c771-42ab-971a-fec1e7e2edc5",
   "metadata": {},
   "outputs": [
    {
     "name": "stdout",
     "output_type": "stream",
     "text": [
      "age       float64\n",
      "bp        float64\n",
      "sg       category\n",
      "al       category\n",
      "su       category\n",
      "rbc        object\n",
      "pc         object\n",
      "pcc        object\n",
      "ba         object\n",
      "bgr       float64\n",
      "bu        float64\n",
      "sc        float64\n",
      "sod       float64\n",
      "pot       float64\n",
      "hemo      float64\n",
      "pcv       float64\n",
      "wbcc      float64\n",
      "rbcc      float64\n",
      "htn        object\n",
      "dm         object\n",
      "cad        object\n",
      "appet      object\n",
      "pe         object\n",
      "ane        object\n",
      "dtype: object\n"
     ]
    }
   ],
   "source": [
    "print(X.dtypes)"
   ]
  },
  {
   "cell_type": "markdown",
   "id": "0aff75fc-57c3-40ae-ae3e-7f3315d43563",
   "metadata": {},
   "source": [
    "I can use float64 to select all the numerical columns to scale."
   ]
  },
  {
   "cell_type": "code",
   "execution_count": 7,
   "id": "f8e1c755-d46c-4d30-83c3-31ec4387c9da",
   "metadata": {},
   "outputs": [],
   "source": [
    "scale_col = X.select_dtypes(include='float64').columns"
   ]
  },
  {
   "cell_type": "code",
   "execution_count": 8,
   "id": "90d6a0aa-3e06-4e92-b106-fecff0a3dc3b",
   "metadata": {},
   "outputs": [],
   "source": [
    "scaler = StandardScaler()\n",
    "X.loc[:,scale_col] = scaler.fit_transform(X[scale_col])"
   ]
  },
  {
   "cell_type": "markdown",
   "id": "0d0a1d09-39e2-4b0b-9fea-04c1c430bfae",
   "metadata": {},
   "source": [
    "Now I can convert the binary strings into 0 or 1 integers. But the dm column has a formatting issue, I will convert it '\\tno' into NaN."
   ]
  },
  {
   "cell_type": "code",
   "execution_count": 9,
   "id": "cd7968ea-e9a7-4170-97b1-4f4f48401bb2",
   "metadata": {},
   "outputs": [
    {
     "name": "stdout",
     "output_type": "stream",
     "text": [
      "['yes' 'no' '\\tno' nan]\n"
     ]
    }
   ],
   "source": [
    "print(X['dm'].unique())"
   ]
  },
  {
   "cell_type": "code",
   "execution_count": 10,
   "id": "ec211e90-fbc5-490b-a5bf-3255cde1429b",
   "metadata": {},
   "outputs": [],
   "source": [
    "dict = {'normal':0,'notpresent':0,'no':0,'good':0,\n",
    "        'abnormal':1,'present':1,'yes':1,'poor':1, '\\tno':None,\n",
    "       'notckd':0,'ckd':1}\n",
    "X = X.replace(dict)"
   ]
  },
  {
   "cell_type": "markdown",
   "id": "c2df1d3a-0c85-4873-a533-8ab656ccaa6c",
   "metadata": {},
   "source": [
    "## Question 3 ##"
   ]
  },
  {
   "cell_type": "code",
   "execution_count": 11,
   "id": "ef389dd3-6297-42a4-a571-08148ea80132",
   "metadata": {},
   "outputs": [
    {
     "data": {
      "text/html": [
       "<div>\n",
       "<style scoped>\n",
       "    .dataframe tbody tr th:only-of-type {\n",
       "        vertical-align: middle;\n",
       "    }\n",
       "\n",
       "    .dataframe tbody tr th {\n",
       "        vertical-align: top;\n",
       "    }\n",
       "\n",
       "    .dataframe thead th {\n",
       "        text-align: right;\n",
       "    }\n",
       "</style>\n",
       "<table border=\"1\" class=\"dataframe\">\n",
       "  <thead>\n",
       "    <tr style=\"text-align: right;\">\n",
       "      <th></th>\n",
       "      <th>age</th>\n",
       "      <th>bp</th>\n",
       "      <th>rbc</th>\n",
       "      <th>pc</th>\n",
       "      <th>pcc</th>\n",
       "      <th>ba</th>\n",
       "      <th>bgr</th>\n",
       "      <th>bu</th>\n",
       "      <th>sc</th>\n",
       "      <th>sod</th>\n",
       "      <th>...</th>\n",
       "      <th>hemo</th>\n",
       "      <th>pcv</th>\n",
       "      <th>wbcc</th>\n",
       "      <th>rbcc</th>\n",
       "      <th>htn</th>\n",
       "      <th>dm</th>\n",
       "      <th>cad</th>\n",
       "      <th>appet</th>\n",
       "      <th>pe</th>\n",
       "      <th>ane</th>\n",
       "    </tr>\n",
       "  </thead>\n",
       "  <tbody>\n",
       "    <tr>\n",
       "      <th>count</th>\n",
       "      <td>3.910000e+02</td>\n",
       "      <td>3.880000e+02</td>\n",
       "      <td>248.000000</td>\n",
       "      <td>335.000000</td>\n",
       "      <td>396.000000</td>\n",
       "      <td>396.000000</td>\n",
       "      <td>3.560000e+02</td>\n",
       "      <td>3.810000e+02</td>\n",
       "      <td>383.000000</td>\n",
       "      <td>3.130000e+02</td>\n",
       "      <td>...</td>\n",
       "      <td>3.480000e+02</td>\n",
       "      <td>3.290000e+02</td>\n",
       "      <td>2.940000e+02</td>\n",
       "      <td>2.690000e+02</td>\n",
       "      <td>398.000000</td>\n",
       "      <td>397.000000</td>\n",
       "      <td>398.000000</td>\n",
       "      <td>399.000000</td>\n",
       "      <td>399.000000</td>\n",
       "      <td>399.000000</td>\n",
       "    </tr>\n",
       "    <tr>\n",
       "      <th>mean</th>\n",
       "      <td>9.994847e-17</td>\n",
       "      <td>-2.380684e-16</td>\n",
       "      <td>0.189516</td>\n",
       "      <td>0.226866</td>\n",
       "      <td>0.106061</td>\n",
       "      <td>0.055556</td>\n",
       "      <td>-1.796316e-16</td>\n",
       "      <td>-3.729883e-17</td>\n",
       "      <td>0.000000</td>\n",
       "      <td>2.270105e-17</td>\n",
       "      <td>...</td>\n",
       "      <td>4.083579e-17</td>\n",
       "      <td>1.295823e-16</td>\n",
       "      <td>1.450087e-16</td>\n",
       "      <td>8.452553e-16</td>\n",
       "      <td>0.369347</td>\n",
       "      <td>0.345088</td>\n",
       "      <td>0.085427</td>\n",
       "      <td>0.205514</td>\n",
       "      <td>0.190476</td>\n",
       "      <td>0.150376</td>\n",
       "    </tr>\n",
       "    <tr>\n",
       "      <th>std</th>\n",
       "      <td>1.001281e+00</td>\n",
       "      <td>1.001291e+00</td>\n",
       "      <td>0.392711</td>\n",
       "      <td>0.419431</td>\n",
       "      <td>0.308305</td>\n",
       "      <td>0.229351</td>\n",
       "      <td>1.001407e+00</td>\n",
       "      <td>1.001315e+00</td>\n",
       "      <td>1.001308</td>\n",
       "      <td>1.001601e+00</td>\n",
       "      <td>...</td>\n",
       "      <td>1.001440e+00</td>\n",
       "      <td>1.001523e+00</td>\n",
       "      <td>1.001705e+00</td>\n",
       "      <td>1.001864e+00</td>\n",
       "      <td>0.483235</td>\n",
       "      <td>0.475997</td>\n",
       "      <td>0.279868</td>\n",
       "      <td>0.404584</td>\n",
       "      <td>0.393170</td>\n",
       "      <td>0.357888</td>\n",
       "    </tr>\n",
       "    <tr>\n",
       "      <th>min</th>\n",
       "      <td>-2.885708e+00</td>\n",
       "      <td>-1.936857e+00</td>\n",
       "      <td>0.000000</td>\n",
       "      <td>0.000000</td>\n",
       "      <td>0.000000</td>\n",
       "      <td>0.000000</td>\n",
       "      <td>-1.591967e+00</td>\n",
       "      <td>-1.108830e+00</td>\n",
       "      <td>-0.466102</td>\n",
       "      <td>-1.280094e+01</td>\n",
       "      <td>...</td>\n",
       "      <td>-3.241109e+00</td>\n",
       "      <td>-3.329218e+00</td>\n",
       "      <td>-2.111312e+00</td>\n",
       "      <td>-2.547777e+00</td>\n",
       "      <td>0.000000</td>\n",
       "      <td>0.000000</td>\n",
       "      <td>0.000000</td>\n",
       "      <td>0.000000</td>\n",
       "      <td>0.000000</td>\n",
       "      <td>0.000000</td>\n",
       "    </tr>\n",
       "    <tr>\n",
       "      <th>25%</th>\n",
       "      <td>-5.530393e-01</td>\n",
       "      <td>-4.733701e-01</td>\n",
       "      <td>0.000000</td>\n",
       "      <td>0.000000</td>\n",
       "      <td>0.000000</td>\n",
       "      <td>0.000000</td>\n",
       "      <td>-6.193803e-01</td>\n",
       "      <td>-6.032459e-01</td>\n",
       "      <td>-0.378897</td>\n",
       "      <td>-2.433340e-01</td>\n",
       "      <td>...</td>\n",
       "      <td>-7.655198e-01</td>\n",
       "      <td>-7.669527e-01</td>\n",
       "      <td>-6.484596e-01</td>\n",
       "      <td>-7.889609e-01</td>\n",
       "      <td>0.000000</td>\n",
       "      <td>0.000000</td>\n",
       "      <td>0.000000</td>\n",
       "      <td>0.000000</td>\n",
       "      <td>0.000000</td>\n",
       "      <td>0.000000</td>\n",
       "    </tr>\n",
       "    <tr>\n",
       "      <th>50%</th>\n",
       "      <td>2.050779e-01</td>\n",
       "      <td>2.583733e-01</td>\n",
       "      <td>0.000000</td>\n",
       "      <td>0.000000</td>\n",
       "      <td>0.000000</td>\n",
       "      <td>0.000000</td>\n",
       "      <td>-3.414983e-01</td>\n",
       "      <td>-3.058433e-01</td>\n",
       "      <td>-0.309133</td>\n",
       "      <td>4.534651e-02</td>\n",
       "      <td>...</td>\n",
       "      <td>4.248496e-02</td>\n",
       "      <td>1.242700e-01</td>\n",
       "      <td>-1.381622e-01</td>\n",
       "      <td>9.044717e-02</td>\n",
       "      <td>0.000000</td>\n",
       "      <td>0.000000</td>\n",
       "      <td>0.000000</td>\n",
       "      <td>0.000000</td>\n",
       "      <td>0.000000</td>\n",
       "      <td>0.000000</td>\n",
       "    </tr>\n",
       "    <tr>\n",
       "      <th>75%</th>\n",
       "      <td>7.590867e-01</td>\n",
       "      <td>2.583733e-01</td>\n",
       "      <td>0.000000</td>\n",
       "      <td>0.000000</td>\n",
       "      <td>0.000000</td>\n",
       "      <td>0.000000</td>\n",
       "      <td>1.890038e-01</td>\n",
       "      <td>1.700008e-01</td>\n",
       "      <td>-0.047519</td>\n",
       "      <td>4.302539e-01</td>\n",
       "      <td>...</td>\n",
       "      <td>8.504897e-01</td>\n",
       "      <td>6.812843e-01</td>\n",
       "      <td>4.741947e-01</td>\n",
       "      <td>6.767192e-01</td>\n",
       "      <td>1.000000</td>\n",
       "      <td>1.000000</td>\n",
       "      <td>0.000000</td>\n",
       "      <td>0.000000</td>\n",
       "      <td>0.000000</td>\n",
       "      <td>0.000000</td>\n",
       "    </tr>\n",
       "    <tr>\n",
       "      <th>max</th>\n",
       "      <td>2.246163e+00</td>\n",
       "      <td>7.575807e+00</td>\n",
       "      <td>1.000000</td>\n",
       "      <td>1.000000</td>\n",
       "      <td>1.000000</td>\n",
       "      <td>1.000000</td>\n",
       "      <td>4.319341e+00</td>\n",
       "      <td>6.613723e+00</td>\n",
       "      <td>12.719271</td>\n",
       "      <td>2.451017e+00</td>\n",
       "      <td>...</td>\n",
       "      <td>1.813219e+00</td>\n",
       "      <td>1.683910e+00</td>\n",
       "      <td>6.121486e+00</td>\n",
       "      <td>3.217231e+00</td>\n",
       "      <td>1.000000</td>\n",
       "      <td>1.000000</td>\n",
       "      <td>1.000000</td>\n",
       "      <td>1.000000</td>\n",
       "      <td>1.000000</td>\n",
       "      <td>1.000000</td>\n",
       "    </tr>\n",
       "  </tbody>\n",
       "</table>\n",
       "<p>8 rows × 21 columns</p>\n",
       "</div>"
      ],
      "text/plain": [
       "                age            bp         rbc          pc         pcc  \\\n",
       "count  3.910000e+02  3.880000e+02  248.000000  335.000000  396.000000   \n",
       "mean   9.994847e-17 -2.380684e-16    0.189516    0.226866    0.106061   \n",
       "std    1.001281e+00  1.001291e+00    0.392711    0.419431    0.308305   \n",
       "min   -2.885708e+00 -1.936857e+00    0.000000    0.000000    0.000000   \n",
       "25%   -5.530393e-01 -4.733701e-01    0.000000    0.000000    0.000000   \n",
       "50%    2.050779e-01  2.583733e-01    0.000000    0.000000    0.000000   \n",
       "75%    7.590867e-01  2.583733e-01    0.000000    0.000000    0.000000   \n",
       "max    2.246163e+00  7.575807e+00    1.000000    1.000000    1.000000   \n",
       "\n",
       "               ba           bgr            bu          sc           sod  ...  \\\n",
       "count  396.000000  3.560000e+02  3.810000e+02  383.000000  3.130000e+02  ...   \n",
       "mean     0.055556 -1.796316e-16 -3.729883e-17    0.000000  2.270105e-17  ...   \n",
       "std      0.229351  1.001407e+00  1.001315e+00    1.001308  1.001601e+00  ...   \n",
       "min      0.000000 -1.591967e+00 -1.108830e+00   -0.466102 -1.280094e+01  ...   \n",
       "25%      0.000000 -6.193803e-01 -6.032459e-01   -0.378897 -2.433340e-01  ...   \n",
       "50%      0.000000 -3.414983e-01 -3.058433e-01   -0.309133  4.534651e-02  ...   \n",
       "75%      0.000000  1.890038e-01  1.700008e-01   -0.047519  4.302539e-01  ...   \n",
       "max      1.000000  4.319341e+00  6.613723e+00   12.719271  2.451017e+00  ...   \n",
       "\n",
       "               hemo           pcv          wbcc          rbcc         htn  \\\n",
       "count  3.480000e+02  3.290000e+02  2.940000e+02  2.690000e+02  398.000000   \n",
       "mean   4.083579e-17  1.295823e-16  1.450087e-16  8.452553e-16    0.369347   \n",
       "std    1.001440e+00  1.001523e+00  1.001705e+00  1.001864e+00    0.483235   \n",
       "min   -3.241109e+00 -3.329218e+00 -2.111312e+00 -2.547777e+00    0.000000   \n",
       "25%   -7.655198e-01 -7.669527e-01 -6.484596e-01 -7.889609e-01    0.000000   \n",
       "50%    4.248496e-02  1.242700e-01 -1.381622e-01  9.044717e-02    0.000000   \n",
       "75%    8.504897e-01  6.812843e-01  4.741947e-01  6.767192e-01    1.000000   \n",
       "max    1.813219e+00  1.683910e+00  6.121486e+00  3.217231e+00    1.000000   \n",
       "\n",
       "               dm         cad       appet          pe         ane  \n",
       "count  397.000000  398.000000  399.000000  399.000000  399.000000  \n",
       "mean     0.345088    0.085427    0.205514    0.190476    0.150376  \n",
       "std      0.475997    0.279868    0.404584    0.393170    0.357888  \n",
       "min      0.000000    0.000000    0.000000    0.000000    0.000000  \n",
       "25%      0.000000    0.000000    0.000000    0.000000    0.000000  \n",
       "50%      0.000000    0.000000    0.000000    0.000000    0.000000  \n",
       "75%      1.000000    0.000000    0.000000    0.000000    0.000000  \n",
       "max      1.000000    1.000000    1.000000    1.000000    1.000000  \n",
       "\n",
       "[8 rows x 21 columns]"
      ]
     },
     "execution_count": 11,
     "metadata": {},
     "output_type": "execute_result"
    }
   ],
   "source": [
    "X.describe()"
   ]
  },
  {
   "cell_type": "markdown",
   "id": "abc6420b-4f91-4840-98d8-331a7b3aaa64",
   "metadata": {},
   "source": [
    "There are four indicated data types in the dataset: integer, continuous, binary, and categorical. When converted into a pandas dataframe, these types become float64, float64, int64, and category, respectively.\n",
    "There are 400 total patients in this study, but there are missing data in all of the predictors. There is an uneven distribution in terms of the y variable, where there are 62% healthy patients and 38% patients with ckd."
   ]
  },
  {
   "cell_type": "markdown",
   "id": "b3355750-f4de-41f2-9bd3-3bf26e78de1e",
   "metadata": {},
   "source": [
    "## Question 4 ##"
   ]
  },
  {
   "cell_type": "code",
   "execution_count": 12,
   "id": "4acbb0fa-d9dd-4d99-9797-f552ef192f68",
   "metadata": {},
   "outputs": [
    {
     "data": {
      "image/png": "[encoded data removed]",
      "text/plain": [
       "<Figure size 640x480 with 2 Axes>"
      ]
     },
     "metadata": {},
     "output_type": "display_data"
    }
   ],
   "source": [
    "sns.heatmap(X.corr(), annot=True, cmap='coolwarm')\n",
    "plt.show()"
   ]
  },
  {
   "cell_type": "markdown",
   "id": "71bf5eff-47ca-4587-8571-ca3ecc465ab1",
   "metadata": {},
   "source": [
    "There seem to be strong positive linear relationships/correlations between pcv/hemo, hemo/rbcc, and pcv/rbcc.\n",
    "There also seem to be strong negative correlations for rbcc, hemo, and pcv.\n",
    "\n",
    "The variables showing a strong correlation may be redundant in linearly predicting the response as they behave similarly in terms of the effects, one of the features in the pair may be excluded to avoid multicolinearity.\n",
    "\n",
    "In contrast, those with weak correlations near 0 will act independently and are more likely to be retained during feature selection."
   ]
  },
  {
   "cell_type": "markdown",
   "id": "255b8b6e-c37a-4e0b-b675-ab1a086d76dc",
   "metadata": {},
   "source": [
    "## Question 5 ##"
   ]
  },
  {
   "cell_type": "code",
   "execution_count": 13,
   "id": "8b924a51-1c63-4a82-b49b-8e4c373e409c",
   "metadata": {},
   "outputs": [
    {
     "name": "stdout",
     "output_type": "stream",
     "text": [
      "age      0.0225\n",
      "bp       0.0300\n",
      "sg       0.1175\n",
      "al       0.1150\n",
      "su       0.1225\n",
      "rbc      0.3800\n",
      "pc       0.1625\n",
      "pcc      0.0100\n",
      "ba       0.0100\n",
      "bgr      0.1100\n",
      "bu       0.0475\n",
      "sc       0.0425\n",
      "sod      0.2175\n",
      "pot      0.2200\n",
      "hemo     0.1300\n",
      "pcv      0.1775\n",
      "wbcc     0.2650\n",
      "rbcc     0.3275\n",
      "htn      0.0050\n",
      "dm       0.0075\n",
      "cad      0.0050\n",
      "appet    0.0025\n",
      "pe       0.0025\n",
      "ane      0.0025\n",
      "dtype: float64\n"
     ]
    }
   ],
   "source": [
    "print(X.isna().sum() / X.shape[0])"
   ]
  },
  {
   "cell_type": "code",
   "execution_count": 14,
   "id": "652f80b6-28e4-4c61-8a1c-cc5677fc6b83",
   "metadata": {},
   "outputs": [
    {
     "name": "stdout",
     "output_type": "stream",
     "text": [
      "class    False\n",
      "dtype: bool\n"
     ]
    }
   ],
   "source": [
    "print(y.isna().any())"
   ]
  },
  {
   "cell_type": "markdown",
   "id": "ef836356-4fd4-41b8-a9f3-f042e2e65bf0",
   "metadata": {},
   "source": [
    "The response variable has no NaN's but many of the predictors have a large proportion of NaN's (up to 38%). I do not want to lose too much data, so I will aim to impute numerical entries with means and the categorical entries with the most frequent observation column-wise."
   ]
  },
  {
   "cell_type": "code",
   "execution_count": 15,
   "id": "bf7bb7e1-996e-463a-aed9-db30f711ef6c",
   "metadata": {},
   "outputs": [],
   "source": [
    "num_col = X.select_dtypes('number').columns\n",
    "\n",
    "X_num_imp = SimpleImputer(missing_values=np.nan, strategy='mean').fit_transform(X[num_col])\n",
    "X_cat_imp = SimpleImputer(missing_values=np.nan, strategy='most_frequent').fit_transform(X[cat_var])\n",
    "X.loc[:,num_col] = X_num_imp\n",
    "X.loc[:,cat_var] = X_cat_imp"
   ]
  },
  {
   "cell_type": "code",
   "execution_count": 16,
   "id": "5a17ca6d-4124-4939-be4f-c35a3746a5b2",
   "metadata": {},
   "outputs": [
    {
     "data": {
      "text/plain": [
       "0"
      ]
     },
     "execution_count": 16,
     "metadata": {},
     "output_type": "execute_result"
    }
   ],
   "source": [
    "sum(X.isna().any())"
   ]
  },
  {
   "cell_type": "markdown",
   "id": "25378f4d-bbf6-4158-a847-f0165399183e",
   "metadata": {},
   "source": [
    "There is no loss of observations."
   ]
  },
  {
   "cell_type": "markdown",
   "id": "e7be44cc-ab42-499b-ae93-94f5c98bcc6e",
   "metadata": {},
   "source": [
    "## Question 6 ##"
   ]
  },
  {
   "cell_type": "code",
   "execution_count": 17,
   "id": "9434f3cb-78d9-4fa8-b68e-31cf9e430b20",
   "metadata": {},
   "outputs": [],
   "source": [
    "Q3 = X[scale_col].quantile(0.75)\n",
    "Q1 = X[scale_col].quantile(0.25)\n",
    "IQR = Q3-Q1\n",
    "up_threshold = Q3 + IQR*2\n",
    "low_threshold = Q1 - IQR*2"
   ]
  },
  {
   "cell_type": "markdown",
   "id": "9bb90c63-5536-4be1-b995-c65d7f58e486",
   "metadata": {},
   "source": [
    "I want to replace the values outside this range with the thresholds. For tree-based algorithms, it is best to deal with outliers as they can skew the results."
   ]
  },
  {
   "cell_type": "code",
   "execution_count": 18,
   "id": "fb274e98-8161-4f51-8d4b-be5d3b1ab946",
   "metadata": {},
   "outputs": [
    {
     "data": {
      "text/plain": [
       "age      0\n",
       "bp       6\n",
       "bgr     41\n",
       "bu      35\n",
       "sc      31\n",
       "sod     13\n",
       "pot      7\n",
       "hemo     1\n",
       "pcv      1\n",
       "wbcc    12\n",
       "rbcc    42\n",
       "dtype: int64"
      ]
     },
     "execution_count": 18,
     "metadata": {},
     "output_type": "execute_result"
    }
   ],
   "source": [
    "np.sum((X[scale_col]>up_threshold) | (X[scale_col]<low_threshold), axis=0)"
   ]
  },
  {
   "cell_type": "code",
   "execution_count": 19,
   "id": "443dc7cb-a12e-41ef-bb51-f4b21dcb9f50",
   "metadata": {},
   "outputs": [],
   "source": [
    "up_outliers = X[scale_col]>up_threshold\n",
    "low_outliers = X[scale_col]<low_threshold"
   ]
  },
  {
   "cell_type": "code",
   "execution_count": 20,
   "id": "b73655d0-ae37-4b06-b150-4c32a8355037",
   "metadata": {},
   "outputs": [],
   "source": [
    "for col in scale_col:\n",
    "    X.loc[:,col] = np.where(X[col]>up_threshold.loc[col], \n",
    "                            up_threshold.loc[col], X.loc[:,col])\n",
    "    X.loc[:,col] = np.where(X[col]<low_threshold.loc[col], \n",
    "                            low_threshold.loc[col], X.loc[:,col])"
   ]
  },
  {
   "cell_type": "markdown",
   "id": "706d4fd5-25ac-4cad-9ee8-308ed6005702",
   "metadata": {},
   "source": [
    "## Question 7 ##"
   ]
  },
  {
   "cell_type": "code",
   "execution_count": 21,
   "id": "7f0e9615-f04d-4969-9f8a-ef8f596fe45e",
   "metadata": {},
   "outputs": [],
   "source": [
    "%%capture\n",
    "\n",
    "sil = []\n",
    "for i in range(2,10) :\n",
    "    km = KMeans(n_clusters=i+1, n_init=20, random_state=0)\n",
    "    cluster_labels_km = km.fit_predict(X)\n",
    "    sil.append(silhouette_score(X, cluster_labels_km).round(3))"
   ]
  },
  {
   "cell_type": "code",
   "execution_count": 22,
   "id": "3be8cd22-3954-48db-8029-879a68d0d783",
   "metadata": {},
   "outputs": [
    {
     "name": "stdout",
     "output_type": "stream",
     "text": [
      "[0.262, 0.223, 0.237, 0.137, 0.131, 0.138, 0.128, 0.131]\n"
     ]
    }
   ],
   "source": [
    "print(sil)"
   ]
  },
  {
   "cell_type": "markdown",
   "id": "a1acc770-6235-41f6-8200-9cd0b2cc0949",
   "metadata": {},
   "source": [
    "From the average silhouette scores from K=2 to 10, we can see that K=2 is the best choice of clusters."
   ]
  },
  {
   "cell_type": "code",
   "execution_count": 23,
   "id": "a49066c2-f9de-4231-bd67-9e67ac487f8b",
   "metadata": {},
   "outputs": [],
   "source": [
    "%%capture\n",
    "\n",
    "km2 = KMeans(n_clusters=2, n_init=20, random_state=0)\n",
    "cluster_labels_km2 = np.where(km2.fit_predict(X)==0,'red','blue')"
   ]
  },
  {
   "cell_type": "code",
   "execution_count": 24,
   "id": "1ea97c0f-07f2-47db-bf96-180397585d22",
   "metadata": {},
   "outputs": [
    {
     "name": "stdout",
     "output_type": "stream",
     "text": [
      "[3.79388730e-01 1.20758941e-01 1.12481506e-01 7.44844122e-02\n",
      " 6.29226009e-02 4.96526023e-02 2.92513034e-02 2.44762249e-02\n",
      " 2.17666414e-02 1.80360311e-02 1.62475469e-02 1.37655572e-02\n",
      " 1.20121723e-02 1.03802387e-02 9.88934233e-03 9.03458549e-03\n",
      " 7.66271730e-03 7.04594857e-03 5.54925793e-03 4.27204699e-03\n",
      " 3.91983811e-03 3.75233742e-03 3.24774349e-03 1.67447307e-06]\n"
     ]
    }
   ],
   "source": [
    "pca = PCA()\n",
    "X_pca = pca.fit_transform(X)\n",
    "print(pca.explained_variance_ratio_)"
   ]
  },
  {
   "cell_type": "code",
   "execution_count": 25,
   "id": "feff51da-7be0-4057-b9d0-8735654c13fd",
   "metadata": {},
   "outputs": [
    {
     "data": {
      "image/png": "[encoded data removed]",
      "text/plain": [
       "<Figure size 640x480 with 1 Axes>"
      ]
     },
     "metadata": {},
     "output_type": "display_data"
    }
   ],
   "source": [
    "for i in range(len(X_pca)):\n",
    "    if y.values.ravel()[i] == 0:\n",
    "        plt.scatter(X_pca[i, 0], X_pca[i, 1], c=cluster_labels_km2[i], marker='o', alpha=0.5)\n",
    "    elif y.values.ravel()[i] == 1:\n",
    "        plt.scatter(X_pca[i, 0], X_pca[i, 1], c=cluster_labels_km2[i], marker='^', alpha=0.5)\n",
    "\n",
    "plt.xlabel('PC1 (37.9%)')\n",
    "plt.ylabel('PC2 (12.1%)')\n",
    "plt.show()"
   ]
  },
  {
   "cell_type": "markdown",
   "id": "5fb37da3-418d-4686-83a1-f97baab159db",
   "metadata": {},
   "source": [
    "The blue points belong to cluster 1 while the red points belong to cluster 2. The circles represent ckd while the triangles represent not ckd."
   ]
  },
  {
   "cell_type": "markdown",
   "id": "8038d749-8c1f-4199-b6aa-0e26ae3df2ab",
   "metadata": {},
   "source": [
    "## Question 8 ##"
   ]
  },
  {
   "cell_type": "code",
   "execution_count": 26,
   "id": "bdc39efd-c24b-4909-b7bd-7e0aeb923160",
   "metadata": {},
   "outputs": [
    {
     "name": "stdout",
     "output_type": "stream",
     "text": [
      "class    0.62\n",
      "dtype: float64\n"
     ]
    }
   ],
   "source": [
    "print((y=='ckd').sum()/y.shape[0])"
   ]
  },
  {
   "cell_type": "markdown",
   "id": "a7adf31e-174e-4c0c-8c80-611fddfaf195",
   "metadata": {},
   "source": [
    "The response classes are split 62% and 38%. It is moderately imbalanced, so I will stratify y when splitting."
   ]
  },
  {
   "cell_type": "code",
   "execution_count": 27,
   "id": "2821d2c5-3de4-48ac-a298-70305828f34c",
   "metadata": {},
   "outputs": [
    {
     "name": "stdout",
     "output_type": "stream",
     "text": [
      "['ckd' 'ckd\\t' 'notckd']\n"
     ]
    }
   ],
   "source": [
    "print(y.stack().unique())"
   ]
  },
  {
   "cell_type": "markdown",
   "id": "6a6256c3-b614-4484-a5a6-f48f0e564b49",
   "metadata": {},
   "source": [
    "There is also a typo in the response variable. I will replace 'ckd\\t' with 'ckd'. ckd will be 1, while notckd will be 0."
   ]
  },
  {
   "cell_type": "code",
   "execution_count": 28,
   "id": "dda43050-03f5-4dd0-82bb-419d1a3498b8",
   "metadata": {},
   "outputs": [],
   "source": [
    "y = np.where(y=='ckd\\t', 'ckd', y)\n",
    "y = pd.DataFrame(y).replace(dict)"
   ]
  },
  {
   "cell_type": "code",
   "execution_count": 29,
   "id": "b6049987-9221-484c-a05d-4d82c4571c9e",
   "metadata": {},
   "outputs": [],
   "source": [
    "X_train, X_test, y_train, y_test = train_test_split(X, y, \n",
    "    test_size=0.3, random_state=1, stratify=y)"
   ]
  },
  {
   "cell_type": "code",
   "execution_count": 30,
   "id": "6db6320c-9432-4aca-bf0d-365bf5d576d1",
   "metadata": {},
   "outputs": [],
   "source": [
    "y_train = y_train.values.ravel()\n",
    "y_test = y_test.values.ravel()"
   ]
  },
  {
   "cell_type": "markdown",
   "id": "bd0985e6-7451-4955-b0ed-3bdc85892b61",
   "metadata": {},
   "source": [
    "## Question 9 ##"
   ]
  },
  {
   "cell_type": "markdown",
   "id": "da97739c-85ea-4f73-8363-347fe2dd2831",
   "metadata": {},
   "source": [
    "I want to compare the performance of linear models (ridge and lasso models) in classifying the ckd patients. The number of observations in the dataset is only 400, and there are not too many predictors. Linear models could be suitable for this dataset with quick computational times. I can also use the feature selection provided by lasso to further optimize the model and compare with ridge, which doesn't have built-in feature selection."
   ]
  },
  {
   "cell_type": "code",
   "execution_count": 31,
   "id": "178f2904-4885-45fa-9bc3-43c16c829ea0",
   "metadata": {},
   "outputs": [],
   "source": [
    "rc = Ridge().fit(X_train, y_train)\n",
    "ls = Lasso().fit(X_train, y_train)"
   ]
  },
  {
   "cell_type": "markdown",
   "id": "54236b8e-786e-44e0-83e0-bfe7da73cad5",
   "metadata": {},
   "source": [
    "## Question 10 ##"
   ]
  },
  {
   "cell_type": "markdown",
   "id": "b54a31df-b96d-4dec-a994-5f9a010808b6",
   "metadata": {},
   "source": [
    "Accuracy/balanced accuracy: measures the proportion of correctly classified instances out of the total number of instances. Higher accuracy indicates better performance and classification.\n",
    "\n",
    "MSE: an absolute measure of the errors between the predicted and test values. Lower value indicated better performance."
   ]
  },
  {
   "cell_type": "markdown",
   "id": "4c06a1a9-84e5-41bb-a5e3-271640c1fbf1",
   "metadata": {},
   "source": [
    "## Question 11 ##"
   ]
  },
  {
   "cell_type": "markdown",
   "id": "5f008883-4584-458f-8dd4-ce1d9c987a6a",
   "metadata": {},
   "source": [
    "- Feature importance coefficients from LASSO\n",
    "- Directly estimate alpha scores with cross-validation for linear model"
   ]
  },
  {
   "cell_type": "code",
   "execution_count": 32,
   "id": "c1f229d9-95d4-4fdb-9615-3c4fa7aa1d3b",
   "metadata": {},
   "outputs": [],
   "source": [
    "rc_cv = RidgeCV(alphas=np.logspace(-4, 4, 100), cv=10).fit(X_train, y_train)\n",
    "rc_alpha = rc_cv.alpha_\n",
    "\n",
    "ls_cv = LassoCV(alphas=np.logspace(-4, 4, 100), cv=10).fit(X_train, y_train)\n",
    "ls_alpha = ls_cv.alpha_"
   ]
  },
  {
   "cell_type": "code",
   "execution_count": 33,
   "id": "45ac853a-d175-41d9-a870-2a7fe32d46ee",
   "metadata": {},
   "outputs": [],
   "source": [
    "rc1 = Ridge(alpha=rc_alpha).fit(X_train, y_train) \n",
    "ls1 = Lasso(alpha = ls_alpha).fit(X_train, y_train)"
   ]
  },
  {
   "cell_type": "code",
   "execution_count": 34,
   "id": "ddfe2aa2-71b2-4e5f-b0f0-a2470208d463",
   "metadata": {},
   "outputs": [],
   "source": [
    "ls_keep = X_train.columns[ls1.coef_!=0]"
   ]
  },
  {
   "cell_type": "code",
   "execution_count": 35,
   "id": "51953545-0418-446a-bdee-90e55800393e",
   "metadata": {},
   "outputs": [],
   "source": [
    "ls2 = Lasso(alpha = ls_alpha).fit(X_train[ls_keep], y_train)"
   ]
  },
  {
   "cell_type": "markdown",
   "id": "36358f39-ebcb-4c7e-9ddd-a65be3bd64e4",
   "metadata": {},
   "source": [
    "## Question 12 ##"
   ]
  },
  {
   "cell_type": "code",
   "execution_count": 36,
   "id": "fd5740fb-7057-4880-933c-192dffde39fc",
   "metadata": {},
   "outputs": [
    {
     "name": "stdout",
     "output_type": "stream",
     "text": [
      "0.9866666666666667 0.9933333333333334\n"
     ]
    }
   ],
   "source": [
    "ls2_pred = np.where(ls2.predict(X_test[ls_keep]) >= 0.5, 1, 0) # have to round predictions\n",
    "rc1_pred = np.where(rc1.predict(X_test) >= 0.5, 1, 0)\n",
    "\n",
    "print(balanced_accuracy_score(y_test, ls2_pred),\n",
    "      balanced_accuracy_score(y_test, rc1_pred))"
   ]
  },
  {
   "cell_type": "code",
   "execution_count": 37,
   "id": "f48a179d-9a3a-4792-816a-f19fd4b7654c",
   "metadata": {},
   "outputs": [
    {
     "name": "stdout",
     "output_type": "stream",
     "text": [
      "0.12909944487358055\n",
      "0.09128709291752768\n"
     ]
    }
   ],
   "source": [
    "print(np.sqrt(metrics.mean_squared_error(y_test, ls2_pred)))\n",
    "print(np.sqrt(metrics.mean_squared_error(y_test, rc1_pred)))"
   ]
  },
  {
   "cell_type": "markdown",
   "id": "81c1aec5-5d23-480b-bf39-9edbb407c40a",
   "metadata": {},
   "source": [
    "The ridge classifier had very optimized performance using the test set(high accuracy and low MSE), but it still had some misclassifications. Meanwhile, the lasso model had a lower accuracy and higher MSE than the ridge classifier. The ridge classifier is more robust and optimized."
   ]
  },
  {
   "cell_type": "markdown",
   "id": "7e2f062a-6252-465e-8f0f-46953b9159d7",
   "metadata": {},
   "source": [
    "## Question 13 ##"
   ]
  },
  {
   "cell_type": "code",
   "execution_count": 39,
   "id": "41370064-5efb-4ead-ae56-7fcda17a03d5",
   "metadata": {},
   "outputs": [
    {
     "data": {
      "text/html": [
       "<div>\n",
       "<style scoped>\n",
       "    .dataframe tbody tr th:only-of-type {\n",
       "        vertical-align: middle;\n",
       "    }\n",
       "\n",
       "    .dataframe tbody tr th {\n",
       "        vertical-align: top;\n",
       "    }\n",
       "\n",
       "    .dataframe thead th {\n",
       "        text-align: right;\n",
       "    }\n",
       "</style>\n",
       "<table border=\"1\" class=\"dataframe\">\n",
       "  <thead>\n",
       "    <tr style=\"text-align: right;\">\n",
       "      <th></th>\n",
       "      <th>Feature</th>\n",
       "      <th>Coefficient</th>\n",
       "    </tr>\n",
       "  </thead>\n",
       "  <tbody>\n",
       "    <tr>\n",
       "      <th>0</th>\n",
       "      <td>age</td>\n",
       "      <td>-0.006322</td>\n",
       "    </tr>\n",
       "    <tr>\n",
       "      <th>1</th>\n",
       "      <td>bp</td>\n",
       "      <td>0.048400</td>\n",
       "    </tr>\n",
       "    <tr>\n",
       "      <th>2</th>\n",
       "      <td>sg</td>\n",
       "      <td>-45.945437</td>\n",
       "    </tr>\n",
       "    <tr>\n",
       "      <th>3</th>\n",
       "      <td>al</td>\n",
       "      <td>0.049555</td>\n",
       "    </tr>\n",
       "    <tr>\n",
       "      <th>4</th>\n",
       "      <td>su</td>\n",
       "      <td>-0.001235</td>\n",
       "    </tr>\n",
       "    <tr>\n",
       "      <th>5</th>\n",
       "      <td>rbc</td>\n",
       "      <td>0.337131</td>\n",
       "    </tr>\n",
       "    <tr>\n",
       "      <th>6</th>\n",
       "      <td>pc</td>\n",
       "      <td>-0.008348</td>\n",
       "    </tr>\n",
       "    <tr>\n",
       "      <th>7</th>\n",
       "      <td>pcc</td>\n",
       "      <td>-0.055386</td>\n",
       "    </tr>\n",
       "    <tr>\n",
       "      <th>8</th>\n",
       "      <td>ba</td>\n",
       "      <td>-0.162739</td>\n",
       "    </tr>\n",
       "    <tr>\n",
       "      <th>9</th>\n",
       "      <td>bgr</td>\n",
       "      <td>0.093600</td>\n",
       "    </tr>\n",
       "    <tr>\n",
       "      <th>10</th>\n",
       "      <td>bu</td>\n",
       "      <td>-0.204063</td>\n",
       "    </tr>\n",
       "    <tr>\n",
       "      <th>11</th>\n",
       "      <td>sc</td>\n",
       "      <td>0.290441</td>\n",
       "    </tr>\n",
       "    <tr>\n",
       "      <th>12</th>\n",
       "      <td>sod</td>\n",
       "      <td>-0.136622</td>\n",
       "    </tr>\n",
       "    <tr>\n",
       "      <th>13</th>\n",
       "      <td>pot</td>\n",
       "      <td>0.066537</td>\n",
       "    </tr>\n",
       "    <tr>\n",
       "      <th>14</th>\n",
       "      <td>hemo</td>\n",
       "      <td>-0.329774</td>\n",
       "    </tr>\n",
       "    <tr>\n",
       "      <th>15</th>\n",
       "      <td>pcv</td>\n",
       "      <td>-0.038228</td>\n",
       "    </tr>\n",
       "    <tr>\n",
       "      <th>16</th>\n",
       "      <td>wbcc</td>\n",
       "      <td>0.059491</td>\n",
       "    </tr>\n",
       "    <tr>\n",
       "      <th>17</th>\n",
       "      <td>rbcc</td>\n",
       "      <td>-0.089901</td>\n",
       "    </tr>\n",
       "    <tr>\n",
       "      <th>18</th>\n",
       "      <td>htn</td>\n",
       "      <td>0.227108</td>\n",
       "    </tr>\n",
       "    <tr>\n",
       "      <th>19</th>\n",
       "      <td>dm</td>\n",
       "      <td>0.218761</td>\n",
       "    </tr>\n",
       "    <tr>\n",
       "      <th>20</th>\n",
       "      <td>cad</td>\n",
       "      <td>-0.109111</td>\n",
       "    </tr>\n",
       "    <tr>\n",
       "      <th>21</th>\n",
       "      <td>appet</td>\n",
       "      <td>0.110186</td>\n",
       "    </tr>\n",
       "    <tr>\n",
       "      <th>22</th>\n",
       "      <td>pe</td>\n",
       "      <td>0.014983</td>\n",
       "    </tr>\n",
       "    <tr>\n",
       "      <th>23</th>\n",
       "      <td>ane</td>\n",
       "      <td>-0.188280</td>\n",
       "    </tr>\n",
       "  </tbody>\n",
       "</table>\n",
       "</div>"
      ],
      "text/plain": [
       "   Feature  Coefficient\n",
       "0      age    -0.006322\n",
       "1       bp     0.048400\n",
       "2       sg   -45.945437\n",
       "3       al     0.049555\n",
       "4       su    -0.001235\n",
       "5      rbc     0.337131\n",
       "6       pc    -0.008348\n",
       "7      pcc    -0.055386\n",
       "8       ba    -0.162739\n",
       "9      bgr     0.093600\n",
       "10      bu    -0.204063\n",
       "11      sc     0.290441\n",
       "12     sod    -0.136622\n",
       "13     pot     0.066537\n",
       "14    hemo    -0.329774\n",
       "15     pcv    -0.038228\n",
       "16    wbcc     0.059491\n",
       "17    rbcc    -0.089901\n",
       "18     htn     0.227108\n",
       "19      dm     0.218761\n",
       "20     cad    -0.109111\n",
       "21   appet     0.110186\n",
       "22      pe     0.014983\n",
       "23     ane    -0.188280"
      ]
     },
     "execution_count": 39,
     "metadata": {},
     "output_type": "execute_result"
    }
   ],
   "source": [
    "rc2 = RidgeClassifier(alpha = rc_alpha).fit(X, y.values.ravel())\n",
    "rc2_feature_df = pd.DataFrame({'Feature': X.columns, \n",
    "                              'Coefficient': rc2.coef_.reshape(len(X.columns))})\n",
    "rc2_feature_df"
   ]
  },
  {
   "cell_type": "markdown",
   "id": "2e5fff6a-7161-46d6-a60c-2dee4bcfd4d9",
   "metadata": {},
   "source": [
    "The greater the coefficient (absolute value) of the predictors, the more influence it exerts on the predictive process of the model. Vice versa for smaller coefficients, where the predictor does not influence the predictions as much. The predictors with smaller coefficients (below a certain threshold) of the ridge classifier could possibly be eliminated to reduce noise and computation time. The sign of the coefficient indicates the relationship between the predictor and the predicted variable: negative means that there is an inverse relationship, and vice versa. For example, an increase in the sg coefficient (-45) means that it will strongly lead a decrease in the result (not ckd or 0)."
   ]
  },
  {
   "cell_type": "markdown",
   "id": "7163f51e-c562-4266-a55b-767f15dee8a2",
   "metadata": {},
   "source": [
    "## Question 14 ##"
   ]
  },
  {
   "cell_type": "markdown",
   "id": "7d59678d-9f1f-4744-8d9a-ca21e67fe9c6",
   "metadata": {},
   "source": [
    "We can use the predicted subgroup labels using K=2 clustering as a predictor along side the other features."
   ]
  },
  {
   "cell_type": "code",
   "execution_count": 40,
   "id": "563f50f2-7ecd-4d2c-a819-013478dc8c84",
   "metadata": {},
   "outputs": [],
   "source": [
    "%%capture\n",
    "\n",
    "X1 = X\n",
    "X1['subgroup'] = km2.fit_predict(X1)\n",
    "\n",
    "X_train1, X_test1, y_train1, y_test1 = train_test_split(X1, y, \n",
    "    test_size=0.3, random_state=1, stratify=y)"
   ]
  },
  {
   "cell_type": "code",
   "execution_count": 41,
   "id": "0dba8cd4-f31d-45d8-bc73-e8b6c750f501",
   "metadata": {},
   "outputs": [],
   "source": [
    "ls3_cv = LassoCV(alphas=np.logspace(-4, 4, 100), cv=10).fit(X_train1, y_train1.values.ravel())\n",
    "ls3_alpha = ls3_cv.alpha_"
   ]
  },
  {
   "cell_type": "code",
   "execution_count": 42,
   "id": "9f0fc039-c77b-4a6c-982f-79a52037266d",
   "metadata": {},
   "outputs": [],
   "source": [
    "ls3 = Lasso(alpha = ls3_alpha).fit(X_train1, y_train1.values.ravel())\n",
    "ls3_keep = X_train1.columns[ls3.coef_!=0]"
   ]
  },
  {
   "cell_type": "code",
   "execution_count": 43,
   "id": "bd411695-8b1c-4c89-92a2-69abf3091175",
   "metadata": {},
   "outputs": [],
   "source": [
    "ls4 = Lasso(alpha = ls3_alpha).fit(X_train1[ls3_keep], y_train1.values.ravel())"
   ]
  },
  {
   "cell_type": "code",
   "execution_count": 44,
   "id": "673639b3-4cbc-4e58-85a6-eccb7ec5ac39",
   "metadata": {},
   "outputs": [
    {
     "name": "stdout",
     "output_type": "stream",
     "text": [
      "0.9866666666666667\n",
      "0.12909944487358055\n"
     ]
    }
   ],
   "source": [
    "ls4_pred = np.where(ls4.predict(X_test1[ls3_keep]) >= 0.5, 1, 0)\n",
    "\n",
    "print(balanced_accuracy_score(y_test1, ls4_pred))\n",
    "print(np.sqrt(metrics.mean_squared_error(y_test1, ls4_pred)))"
   ]
  },
  {
   "cell_type": "markdown",
   "id": "1946f919-e06c-4024-b3cc-65f819434194",
   "metadata": {},
   "source": [
    "Unfortunately, the performance of the model remained constant with the addition of this feature. Perhaps the additional feature added noise to the model."
   ]
  },
  {
   "cell_type": "markdown",
   "id": "83dfd801-30af-4ee4-92c5-625ffb885bbf",
   "metadata": {},
   "source": [
    "## Question 16 ##"
   ]
  },
  {
   "cell_type": "markdown",
   "id": "103e178f-1ed4-4911-8c55-5925a6aceb37",
   "metadata": {},
   "source": [
    "https://github.com/jlhjiang/stats3da3_hw6"
   ]
  },
  {
   "cell_type": "code",
   "execution_count": null,
   "id": "8189285a-461d-49b3-b09c-f6054630d393",
   "metadata": {},
   "outputs": [],
   "source": []
  }
 ],
 "metadata": {
  "kernelspec": {
   "display_name": "Python 3 (ipykernel)",
   "language": "python",
   "name": "python3"
  },
  "language_info": {
   "codemirror_mode": {
    "name": "ipython",
    "version": 3
   },
   "file_extension": ".py",
   "mimetype": "text/x-python",
   "name": "python",
   "nbconvert_exporter": "python",
   "pygments_lexer": "ipython3",
   "version": "3.11.7"
  }
 },
 "nbformat": 4,
 "nbformat_minor": 5
}
